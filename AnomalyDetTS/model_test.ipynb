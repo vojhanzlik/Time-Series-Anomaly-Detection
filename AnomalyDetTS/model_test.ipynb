{
 "cells": [
  {
   "cell_type": "code",
   "execution_count": 31,
   "metadata": {},
   "outputs": [
    {
     "name": "stdout",
     "output_type": "stream",
     "text": [
      "The autoreload extension is already loaded. To reload it, use:\n",
      "  %reload_ext autoreload\n"
     ]
    }
   ],
   "source": [
    "%load_ext autoreload\n",
    "%autoreload 2\n",
    "import numpy as np\n",
    "import pandas as pd\n",
    "from utils import *\n",
    "import os\n",
    "os.chdir(r\"C:\\Users\\altrn\\Documents\\fifth_semester\\PROJ\\Anomaly-detection-in-timeseries\")\n",
    "from PROD.models.deviationClassifier import *\n",
    "from PROD.models.featureClassifier import *\n",
    "from PROD.models.lstmClassifier import *"
   ]
  },
  {
   "cell_type": "code",
   "execution_count": 32,
   "metadata": {},
   "outputs": [
    {
     "name": "stdout",
     "output_type": "stream",
     "text": [
      "60\n"
     ]
    }
   ],
   "source": [
    "data = load_data(\"./data_to_load/6dimdefault/CSV/dataset.csv\", id = [5])\n",
    "print(len(data))\n",
    "std_class = deviationClassifier(6,3)"
   ]
  },
  {
   "cell_type": "code",
   "execution_count": 33,
   "metadata": {},
   "outputs": [],
   "source": [
    "fk = featureClassifier()"
   ]
  },
  {
   "cell_type": "code",
   "execution_count": 34,
   "metadata": {},
   "outputs": [
    {
     "name": "stdout",
     "output_type": "stream",
     "text": [
      "[[3565.0622239259187, 551.2106485749066], [5414.614248547392, 563.716141695243], [5782.063522970688, 515.4738522791066], [3331.8251354031504, 563.4921918711339], [6428.451922657775, 571.719535309252], [5490.26175740352, 688.7731944730356], [7037.794708792036, 1387.7893805751933], [3381.5494015205804, 567.0298735986757], [4866.921587078247, 532.398797901], [5292.298978027229, 567.4926614294876], [5328.198049044377, 687.384808803763], [5468.820862912709, 566.7554292542023], [3751.7076687089752, 501.02874217810205], [6133.290738414591, 624.2249964710329], [5693.727882747277, 1030.6442036189953], [5268.7031144969, 655.5245878836074], [3862.9923938812103, 541.1329750059091], [5148.487007107574, 628.6357025185287], [6016.565820741715, 1022.8133591960856], [5314.3146951260715, 594.7061474192788], [3882.4859478464837, 548.1102394975966], [5622.356783061191, 705.1493565272903], [5112.004160172699, 801.3935827401675], [4137.376928991954, 543.5457845896917], [5731.628993494927, 608.6058707708269], [4297.131767832581, 560.0832535200749], [4246.9422966074235, 552.8284933597238], [4555.787780880333, 523.0429171967975], [4748.947376174075, 589.827812696441], [3593.211689250711, 517.2265204139717]]\n",
      "[[3565.0622239259187, 551.2106485749066], [5414.614248547392, 563.716141695243], [5782.063522970688, 515.4738522791066], [3331.8251354031504, 563.4921918711339], [6428.451922657775, 571.719535309252], [5490.26175740352, 688.7731944730356], [7037.794708792036, 1387.7893805751933], [3381.5494015205804, 567.0298735986757], [4866.921587078247, 532.398797901], [5292.298978027229, 567.4926614294876], [5328.198049044377, 687.384808803763], [5468.820862912709, 566.7554292542023], [3751.7076687089752, 501.02874217810205], [6133.290738414591, 624.2249964710329], [5693.727882747277, 1030.6442036189953], [5268.7031144969, 655.5245878836074], [3862.9923938812103, 541.1329750059091], [5148.487007107574, 628.6357025185287], [6016.565820741715, 1022.8133591960856], [5314.3146951260715, 594.7061474192788], [3882.4859478464837, 548.1102394975966], [5622.356783061191, 705.1493565272903], [5112.004160172699, 801.3935827401675], [4137.376928991954, 543.5457845896917], [5731.628993494927, 608.6058707708269], [4297.131767832581, 560.0832535200749], [4246.9422966074235, 552.8284933597238], [4555.787780880333, 523.0429171967975], [4748.947376174075, 589.827812696441], [3593.211689250711, 517.2265204139717]]\n",
      "(30, 2)\n",
      "Gaussian classifier, params: [(array([4950.18418146,  643.72536871]), array([[934693.83319533, 109354.64585416],\n",
      "       [109354.64585416,  36408.07084275]]))]\n"
     ]
    }
   ],
   "source": [
    "%matplotlib qt\n",
    "fk.naive_fit(data, vis = True)\n",
    "fk.save_params(\"./PROD/params_.pkl\")"
   ]
  },
  {
   "cell_type": "code",
   "execution_count": 36,
   "metadata": {},
   "outputs": [
    {
     "name": "stdout",
     "output_type": "stream",
     "text": [
      "False False False | False\n",
      "True True True | True\n",
      "True True True | False\n",
      "True True True | True\n",
      "True True True | True\n",
      "True True True | True\n",
      "True True True | True\n",
      "False False False | False\n",
      "True True True | True\n",
      "False False False | True\n",
      "True False False | False\n",
      "False False False | False\n",
      "True True True | False\n",
      "True True True | True\n",
      "False False False | False\n",
      "True True True | True\n",
      "False False False | False\n",
      "False False False | False\n",
      "False False False | False\n",
      "False False False | False\n",
      "False False False | False\n",
      "False False False | False\n",
      "False False False | False\n",
      "False False False | False\n",
      "False False False | False\n",
      "True True True | True\n",
      "False False False | False\n",
      "False False False | False\n",
      "False False False | False\n",
      "False False False | False\n",
      "False False False | False\n",
      "False False False | False\n",
      "False False False | False\n",
      "False False False | False\n",
      "False False False | False\n",
      "False False False | False\n",
      "False False False | False\n",
      "True True True | True\n",
      "True True True | True\n",
      "True True True | True\n",
      "True True True | True\n",
      "False True True | True\n",
      "True True True | True\n",
      "True True True | True\n",
      "True True True | True\n",
      "False True True | True\n",
      "True True True | True\n",
      "True True True | True\n",
      "True True True | True\n",
      "True True True | True\n",
      "False False False | False\n",
      "True True True | True\n",
      "True True True | True\n",
      "True True True | True\n",
      "False False False | False\n",
      "True True True | True\n",
      "False False False | False\n",
      "True True True | True\n",
      "True True True | True\n",
      "True True True | True\n"
     ]
    },
    {
     "ename": "IndexError",
     "evalue": "list index out of range",
     "output_type": "error",
     "traceback": [
      "\u001b[1;31m---------------------------------------------------------------------------\u001b[0m",
      "\u001b[1;31mIndexError\u001b[0m                                Traceback (most recent call last)",
      "Cell \u001b[1;32mIn[36], line 5\u001b[0m\n\u001b[0;32m      3\u001b[0m \u001b[38;5;28;01mfor\u001b[39;00m i \u001b[38;5;129;01min\u001b[39;00m \u001b[38;5;28mrange\u001b[39m(\u001b[38;5;241m100\u001b[39m):\n\u001b[0;32m      4\u001b[0m     \u001b[38;5;28;01mfor\u001b[39;00m j \u001b[38;5;129;01min\u001b[39;00m \u001b[38;5;28mrange\u001b[39m(\u001b[38;5;241m800\u001b[39m, \u001b[38;5;241m1001\u001b[39m, \u001b[38;5;241m100\u001b[39m):\n\u001b[1;32m----> 5\u001b[0m         signal \u001b[38;5;241m=\u001b[39m data[i]\n\u001b[0;32m      6\u001b[0m         sig \u001b[38;5;241m=\u001b[39m signal[\u001b[38;5;241m0\u001b[39m]\u001b[38;5;241m.\u001b[39mto_numpy()\n\u001b[0;32m      7\u001b[0m         label \u001b[38;5;241m=\u001b[39m signal[\u001b[38;5;241m1\u001b[39m]\n",
      "\u001b[1;31mIndexError\u001b[0m: list index out of range"
     ]
    }
   ],
   "source": [
    "fk.load_params(\"./PROD/params_.pkl\")\n",
    "score = 0\n",
    "for i in range(100):\n",
    "    for j in range(800, 1001, 100):\n",
    "        signal = data[i]\n",
    "        sig = signal[0].to_numpy()\n",
    "        label = signal[1]\n",
    "        \n",
    "        print(fk.predict_partial_signal(sig[:j, :]), end=\" \")\n",
    "    print(f\"| {label}\")\n",
    "score"
   ]
  },
  {
   "cell_type": "code",
   "execution_count": 5,
   "metadata": {},
   "outputs": [
    {
     "data": {
      "text/plain": [
       "324"
      ]
     },
     "execution_count": 5,
     "metadata": {},
     "output_type": "execute_result"
    }
   ],
   "source": [
    "std_class.fit_whole_supervised_dataset(data)\n",
    "signals = [i[0] for i in data]\n",
    "labels = [i[1] for i in data]\n",
    "correct_signals = [i[0] for i in data if i[1] == True]\n",
    "anom_signals = [i[0] for i in data if i[1]==False]\n",
    "len(signals)"
   ]
  },
  {
   "cell_type": "code",
   "execution_count": 36,
   "metadata": {},
   "outputs": [
    {
     "name": "stdout",
     "output_type": "stream",
     "text": [
      "261 324\n"
     ]
    }
   ],
   "source": [
    "for _ in range(10):\n",
    "    suma = 0\n",
    "    for i,j in enumerate(signals):\n",
    "        sample_signal = j.to_numpy()\n",
    "        suma += std_class.predict_partial_signal(sample_signal[:np.random.randint(500,np.shape(j)[0]), :], vis = False, learn_from_signal=True) == labels[i]\n",
    "print(suma, len(signals))"
   ]
  },
  {
   "cell_type": "code",
   "execution_count": 86,
   "metadata": {},
   "outputs": [
    {
     "name": "stdout",
     "output_type": "stream",
     "text": [
      "None\n"
     ]
    }
   ],
   "source": [
    "\n",
    "print(std_class.std_ts)"
   ]
  },
  {
   "cell_type": "code",
   "execution_count": null,
   "metadata": {},
   "outputs": [],
   "source": [
    "data = load_data(\"./../data_to_load/6dimdefault/CSV/dataset.csv\")\n",
    "std_class = deviationClassifier(6,3)\n",
    "std_class.fit_incremental_dataset(data, vis=True)"
   ]
  },
  {
   "cell_type": "code",
   "execution_count": null,
   "metadata": {},
   "outputs": [],
   "source": [
    "std_class.show_params()"
   ]
  },
  {
   "cell_type": "code",
   "execution_count": null,
   "metadata": {},
   "outputs": [],
   "source": [
    "%matplotlib inline\n",
    "std_class.predict_full_signal(correct_signals[0], save_fig= \"norm_signal.pdf\")"
   ]
  },
  {
   "cell_type": "code",
   "execution_count": 45,
   "metadata": {},
   "outputs": [],
   "source": [
    "plot_6dim_signal_dataset(data)"
   ]
  },
  {
   "cell_type": "code",
   "execution_count": 3,
   "metadata": {},
   "outputs": [],
   "source": [
    "model = lstmClassifier.load_from_checkpoint(checkpoint_path = \"./Method_3_LSTMNN/checkpoints/250epochs_dataset_(1_4).ckpt\",\n",
    "                                         n_features = 6, n_classes = 2)"
   ]
  },
  {
   "cell_type": "code",
   "execution_count": 8,
   "metadata": {},
   "outputs": [
    {
     "data": {
      "text/plain": [
       "(238, 244)"
      ]
     },
     "execution_count": 8,
     "metadata": {},
     "output_type": "execute_result"
    }
   ],
   "source": [
    "cumsum = 0\n",
    "sigs = correct_signals\n",
    "for i in range(len(sigs)):\n",
    "    cumsum += model.predict(sigs[i])\n",
    "cumsum, len(sigs)"
   ]
  },
  {
   "cell_type": "code",
   "execution_count": 3,
   "metadata": {},
   "outputs": [
    {
     "name": "stdout",
     "output_type": "stream",
     "text": [
      "INFO: Preprocessing training data!\n"
     ]
    },
    {
     "name": "stderr",
     "output_type": "stream",
     "text": [
      "GPU available: False, used: False\n",
      "TPU available: False, using: 0 TPU cores\n",
      "IPU available: False, using: 0 IPUs\n",
      "HPU available: False, using: 0 HPUs\n",
      "c:\\Users\\altrn\\anaconda3\\Lib\\site-packages\\pytorch_lightning\\callbacks\\model_checkpoint.py:653: Checkpoint directory C:\\Users\\altrn\\Documents\\fifth_semester\\PROJ\\Anomaly-detection-in-timeseries\\checkpoints exists and is not empty.\n",
      "\n",
      "  | Name      | Type               | Params\n",
      "-------------------------------------------------\n",
      "0 | model     | LSTMModule         | 1.3 M \n",
      "1 | criterion | CrossEntropyLoss   | 0     \n",
      "2 | accuracy  | MulticlassAccuracy | 0     \n",
      "-------------------------------------------------\n",
      "1.3 M     Trainable params\n",
      "0         Non-trainable params\n",
      "1.3 M     Total params\n",
      "5.294     Total estimated model params size (MB)\n"
     ]
    },
    {
     "data": {
      "application/vnd.jupyter.widget-view+json": {
       "model_id": "e223585c9eb54ef4927db5b9d5f0e430",
       "version_major": 2,
       "version_minor": 0
      },
      "text/plain": [
       "Sanity Checking: |          | 0/? [00:00<?, ?it/s]"
      ]
     },
     "metadata": {},
     "output_type": "display_data"
    }
   ],
   "source": [
    "model_ = lstmClassifier(6,2)\n",
    "model_.train_classifier(data, 2, 2)"
   ]
  }
 ],
 "metadata": {
  "kernelspec": {
   "display_name": "base",
   "language": "python",
   "name": "python3"
  },
  "language_info": {
   "codemirror_mode": {
    "name": "ipython",
    "version": 3
   },
   "file_extension": ".py",
   "mimetype": "text/x-python",
   "name": "python",
   "nbconvert_exporter": "python",
   "pygments_lexer": "ipython3",
   "version": "3.11.4"
  }
 },
 "nbformat": 4,
 "nbformat_minor": 2
}
